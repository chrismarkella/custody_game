{
  "nbformat": 4,
  "nbformat_minor": 0,
  "metadata": {
    "colab": {
      "name": "simulation.ipynb",
      "provenance": [],
      "collapsed_sections": [],
      "include_colab_link": true
    },
    "kernelspec": {
      "name": "python3",
      "display_name": "Python 3"
    }
  },
  "cells": [
    {
      "cell_type": "markdown",
      "metadata": {
        "id": "view-in-github",
        "colab_type": "text"
      },
      "source": [
        "<a href=\"https://colab.research.google.com/github/chrismarkella/custody_game/blob/dev_chris/simulation.ipynb\" target=\"_parent\"><img src=\"https://colab.research.google.com/assets/colab-badge.svg\" alt=\"Open In Colab\"/></a>"
      ]
    },
    {
      "cell_type": "markdown",
      "metadata": {
        "id": "2PPdns6l_2pz",
        "colab_type": "text"
      },
      "source": [
        "# Data availabality problem simulation with Game Theory"
      ]
    },
    {
      "cell_type": "code",
      "metadata": {
        "id": "wLE7K-2W_K7L",
        "colab_type": "code",
        "colab": {
          "base_uri": "https://localhost:8080/",
          "height": 406
        },
        "outputId": "a620e1d6-7f8a-4f63-f0fe-15a60662180f"
      },
      "source": [
        "!pip install axelrod"
      ],
      "execution_count": 2,
      "outputs": [
        {
          "output_type": "stream",
          "text": [
            "Collecting axelrod\n",
            "\u001b[?25l  Downloading https://files.pythonhosted.org/packages/6c/6d/482524b0aed04cf86f991dac9fcf90801d35dc9a1bea6b389ec20ab4f47c/Axelrod-4.6.0-py2.py3-none-any.whl (168kB)\n",
            "\u001b[K     |████████████████████████████████| 174kB 10.3MB/s \n",
            "\u001b[?25hRequirement already satisfied: pandas>=0.18.1 in /usr/local/lib/python3.6/dist-packages (from axelrod) (0.24.2)\n",
            "Requirement already satisfied: scipy>=0.19.0 in /usr/local/lib/python3.6/dist-packages (from axelrod) (1.3.1)\n",
            "Requirement already satisfied: toolz>=0.8.0 in /usr/local/lib/python3.6/dist-packages (from axelrod) (0.10.0)\n",
            "Requirement already satisfied: numpy>=1.9.2 in /usr/local/lib/python3.6/dist-packages (from axelrod) (1.16.5)\n",
            "Requirement already satisfied: prompt-toolkit>=1.0.7 in /usr/local/lib/python3.6/dist-packages (from axelrod) (1.0.18)\n",
            "Requirement already satisfied: cloudpickle>=0.2.1 in /usr/local/lib/python3.6/dist-packages (from axelrod) (0.6.1)\n",
            "Requirement already satisfied: dask>=0.18.1 in /usr/local/lib/python3.6/dist-packages (from axelrod) (1.1.5)\n",
            "Requirement already satisfied: tqdm>=3.4.0 in /usr/local/lib/python3.6/dist-packages (from axelrod) (4.28.1)\n",
            "Requirement already satisfied: matplotlib>=2.0.0 in /usr/local/lib/python3.6/dist-packages (from axelrod) (3.0.3)\n",
            "Requirement already satisfied: python-dateutil>=2.5.0 in /usr/local/lib/python3.6/dist-packages (from pandas>=0.18.1->axelrod) (2.5.3)\n",
            "Requirement already satisfied: pytz>=2011k in /usr/local/lib/python3.6/dist-packages (from pandas>=0.18.1->axelrod) (2018.9)\n",
            "Requirement already satisfied: six>=1.9.0 in /usr/local/lib/python3.6/dist-packages (from prompt-toolkit>=1.0.7->axelrod) (1.12.0)\n",
            "Requirement already satisfied: wcwidth in /usr/local/lib/python3.6/dist-packages (from prompt-toolkit>=1.0.7->axelrod) (0.1.7)\n",
            "Requirement already satisfied: kiwisolver>=1.0.1 in /usr/local/lib/python3.6/dist-packages (from matplotlib>=2.0.0->axelrod) (1.1.0)\n",
            "Requirement already satisfied: pyparsing!=2.0.4,!=2.1.2,!=2.1.6,>=2.0.1 in /usr/local/lib/python3.6/dist-packages (from matplotlib>=2.0.0->axelrod) (2.4.2)\n",
            "Requirement already satisfied: cycler>=0.10 in /usr/local/lib/python3.6/dist-packages (from matplotlib>=2.0.0->axelrod) (0.10.0)\n",
            "Requirement already satisfied: setuptools in /usr/local/lib/python3.6/dist-packages (from kiwisolver>=1.0.1->matplotlib>=2.0.0->axelrod) (41.2.0)\n",
            "Installing collected packages: axelrod\n",
            "Successfully installed axelrod-4.6.0\n"
          ],
          "name": "stdout"
        }
      ]
    },
    {
      "cell_type": "code",
      "metadata": {
        "id": "Rt38c-ck_D04",
        "colab_type": "code",
        "colab": {}
      },
      "source": [
        "import axelrod as axl"
      ],
      "execution_count": 0,
      "outputs": []
    },
    {
      "cell_type": "code",
      "metadata": {
        "id": "mJZiThDl_HpB",
        "colab_type": "code",
        "colab": {}
      },
      "source": [
        "player1 = axl.Cooperator()\n",
        "player2 = axl.Defector()\n",
        "player3 = axl.TitForTat()\n",
        "\n",
        "match = axl.Match([player1, player2], 5)\n",
        "print(f'playing the match: {match.play()}')\n",
        "print(f'final score: {match.final_score()}')\n",
        "\n",
        "match2 = axl.Match([player2, player3], 10)\n",
        "print(f'playing the match: {match2.play()}')\n",
        "print(f'final score: {match2.final_score()}')"
      ],
      "execution_count": 0,
      "outputs": []
    }
  ]
}